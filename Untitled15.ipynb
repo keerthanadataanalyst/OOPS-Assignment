{
 "cells": [
  {
   "cell_type": "code",
   "execution_count": null,
   "id": "d294a4c6-3813-482c-8ddd-75a8c5e57681",
   "metadata": {},
   "outputs": [],
   "source": [
    "# 6. Describe the five types of inheritance in Python. Provide a simple example of multiple inheritance."
   ]
  },
  {
   "cell_type": "code",
   "execution_count": null,
   "id": "b6e0d488-54d9-4a19-93b9-c478da6adf6b",
   "metadata": {},
   "outputs": [],
   "source": [
    "#A. There are 5 types of inheritance"
   ]
  },
  {
   "cell_type": "code",
   "execution_count": 4,
   "id": "5b363a73-a982-41d9-a993-73bd2d21c277",
   "metadata": {},
   "outputs": [],
   "source": [
    "#1. Single Inheritance\n",
    "#A child class inherits from single parent class\n",
    "\n",
    "#example\n",
    "\n",
    "class Parent:\n",
    "    def show(self):\n",
    "        print(\"This is the parent class.\")\n",
    "\n",
    "class Child(Parent):\n",
    "    def display(self):\n",
    "        print(\"This is the child class.\")"
   ]
  },
  {
   "cell_type": "code",
   "execution_count": 16,
   "id": "28902e98-36bb-4e6c-a03a-ac26226c8e5f",
   "metadata": {},
   "outputs": [],
   "source": [
    "obj = Child()"
   ]
  },
  {
   "cell_type": "code",
   "execution_count": 18,
   "id": "26cb2309-4a01-47d6-8dd6-e648133cd373",
   "metadata": {},
   "outputs": [
    {
     "name": "stdout",
     "output_type": "stream",
     "text": [
      "This is the parent class.\n"
     ]
    }
   ],
   "source": [
    "obj.show()"
   ]
  },
  {
   "cell_type": "code",
   "execution_count": 20,
   "id": "0c79ff3c-6295-422e-8249-73a7b66086e5",
   "metadata": {},
   "outputs": [
    {
     "name": "stdout",
     "output_type": "stream",
     "text": [
      "This is the child class.\n"
     ]
    }
   ],
   "source": [
    "obj.display() #child class can access both but parent class cant access both"
   ]
  },
  {
   "cell_type": "code",
   "execution_count": 25,
   "id": "e13eaa8d-31b3-4534-a30a-447a3b077f24",
   "metadata": {},
   "outputs": [],
   "source": [
    "#2. Multiple Inheritance\n",
    "\n",
    "#A child inherits from more than one parent class\n",
    "\n",
    "#example\n",
    "\n",
    "class Father():\n",
    "    def duty(self):\n",
    "        print(\"he provides for family\")\n",
    "\n",
    "class Mother():\n",
    "    def responsibility(self):\n",
    "        print(\"she nurtures the family\")\n",
    "\n",
    "class Child(Father, Mother):\n",
    "    def study(self):\n",
    "        print(\"they study well\")"
   ]
  },
  {
   "cell_type": "code",
   "execution_count": 27,
   "id": "9ec5db8e-8a72-4caa-b2b1-09d3e3204ca5",
   "metadata": {},
   "outputs": [],
   "source": [
    "obj2 = Child()"
   ]
  },
  {
   "cell_type": "code",
   "execution_count": 29,
   "id": "3712468d-fd4d-47b1-bcbd-a34189b32495",
   "metadata": {},
   "outputs": [
    {
     "name": "stdout",
     "output_type": "stream",
     "text": [
      "they study well\n"
     ]
    }
   ],
   "source": [
    "obj2.study()"
   ]
  },
  {
   "cell_type": "code",
   "execution_count": 31,
   "id": "9d965e93-e95d-4ad3-80ac-f4e3162fa0dd",
   "metadata": {},
   "outputs": [
    {
     "name": "stdout",
     "output_type": "stream",
     "text": [
      "she nurtures the family\n"
     ]
    }
   ],
   "source": [
    "obj2.responsibility()"
   ]
  },
  {
   "cell_type": "code",
   "execution_count": 33,
   "id": "35dbf92d-171c-420b-8d60-ddf39cc1df1e",
   "metadata": {},
   "outputs": [
    {
     "name": "stdout",
     "output_type": "stream",
     "text": [
      "he provides for family\n"
     ]
    }
   ],
   "source": [
    "obj2.duty() #the child class can access both parent class"
   ]
  },
  {
   "cell_type": "code",
   "execution_count": null,
   "id": "877259e9-63fb-4054-af78-64ead3d3e201",
   "metadata": {},
   "outputs": [],
   "source": [
    "# 3. Multilevel Inheritance\n",
    "\n",
    "#A child class inherits from a parent class, \n",
    "# And that parent class is itself a child of another class."
   ]
  },
  {
   "cell_type": "code",
   "execution_count": 38,
   "id": "fefd080b-3ec6-4e5f-a785-0359a324e2ad",
   "metadata": {},
   "outputs": [],
   "source": [
    "#example\n",
    "\n",
    "class Grandfather():\n",
    "    def duty(self):\n",
    "        print(\"This is grandfather class\")\n",
    "\n",
    "class Father(Grandfather):\n",
    "    def responsibility(self):\n",
    "        print(\"This is father class\")\n",
    "\n",
    "class Son(Father):\n",
    "    def study(self):\n",
    "        print(\"This is child class\")\n",
    "\n"
   ]
  },
  {
   "cell_type": "code",
   "execution_count": 40,
   "id": "c5f5337e-cd48-4058-b090-54a7151e85df",
   "metadata": {},
   "outputs": [],
   "source": [
    "obj3 = Son()"
   ]
  },
  {
   "cell_type": "code",
   "execution_count": 42,
   "id": "be63c3ee-f5bc-45dd-a7e3-751c7cadaa36",
   "metadata": {},
   "outputs": [
    {
     "name": "stdout",
     "output_type": "stream",
     "text": [
      "This is grandfather class\n"
     ]
    }
   ],
   "source": [
    "obj3.duty()"
   ]
  },
  {
   "cell_type": "code",
   "execution_count": 46,
   "id": "54586c8c-c1dc-4e3c-92b3-cc6987098b27",
   "metadata": {},
   "outputs": [
    {
     "name": "stdout",
     "output_type": "stream",
     "text": [
      "This is father class\n"
     ]
    }
   ],
   "source": [
    "obj3.responsibility()"
   ]
  },
  {
   "cell_type": "code",
   "execution_count": 48,
   "id": "c3047a50-6622-4fbd-9b99-e33b7e1b9af2",
   "metadata": {},
   "outputs": [
    {
     "name": "stdout",
     "output_type": "stream",
     "text": [
      "This is child class\n"
     ]
    }
   ],
   "source": [
    "obj3.study() #child class can access from both grandparent and father"
   ]
  },
  {
   "cell_type": "code",
   "execution_count": 50,
   "id": "b98a1d35-b19c-4cca-a6bc-a3e96da97f05",
   "metadata": {},
   "outputs": [],
   "source": [
    "obj4 = Father()"
   ]
  },
  {
   "cell_type": "code",
   "execution_count": 52,
   "id": "9fb0be9b-dcfe-47f6-a9ff-d2aee48e7d34",
   "metadata": {},
   "outputs": [
    {
     "name": "stdout",
     "output_type": "stream",
     "text": [
      "This is grandfather class\n"
     ]
    }
   ],
   "source": [
    "obj4.duty()"
   ]
  },
  {
   "cell_type": "code",
   "execution_count": 54,
   "id": "f780963b-656b-4abd-88dd-eb8e67742828",
   "metadata": {},
   "outputs": [
    {
     "name": "stdout",
     "output_type": "stream",
     "text": [
      "This is father class\n"
     ]
    }
   ],
   "source": [
    "obj4.responsibility() #father class can access itself and grandparent class"
   ]
  },
  {
   "cell_type": "code",
   "execution_count": null,
   "id": "37338c2e-8ff7-4041-a8b0-917ce17cd5a4",
   "metadata": {},
   "outputs": [],
   "source": [
    "# 4. Hierarchical Inheritance\n",
    "# Multiple child classes inherit from a single parent class."
   ]
  },
  {
   "cell_type": "code",
   "execution_count": 58,
   "id": "55137013-9640-4647-a9bb-a3dfed7a86f8",
   "metadata": {},
   "outputs": [],
   "source": [
    "#example\n",
    "\n",
    "class Parent:\n",
    "    def feature(self):\n",
    "        print(\"This is parent class\")\n",
    "\n",
    "class Child1(Parent):\n",
    "    def feature1(self):\n",
    "        print(\"This is child 1 class\")\n",
    "\n",
    "class Child2(Parent):\n",
    "    def feature2(self):\n",
    "        print(\"This is child 2 class\")"
   ]
  },
  {
   "cell_type": "code",
   "execution_count": 62,
   "id": "62843ac6-d395-4236-a944-e717291cbfdb",
   "metadata": {},
   "outputs": [],
   "source": [
    "object1 = Child1() #for child class -1"
   ]
  },
  {
   "cell_type": "code",
   "execution_count": 64,
   "id": "b804f06a-4af1-4adb-9e61-8791a69ae90b",
   "metadata": {},
   "outputs": [
    {
     "name": "stdout",
     "output_type": "stream",
     "text": [
      "This is parent class\n"
     ]
    }
   ],
   "source": [
    "object1.feature()"
   ]
  },
  {
   "cell_type": "code",
   "execution_count": 66,
   "id": "37b3457f-faae-46fa-a625-4d9a69c610e4",
   "metadata": {},
   "outputs": [
    {
     "name": "stdout",
     "output_type": "stream",
     "text": [
      "This is child 1 class\n"
     ]
    }
   ],
   "source": [
    "object1.feature1()"
   ]
  },
  {
   "cell_type": "code",
   "execution_count": 70,
   "id": "2cd4dd55-4150-415f-a593-07a058404094",
   "metadata": {},
   "outputs": [],
   "source": [
    "object2 = Child2()  #for child class - 2"
   ]
  },
  {
   "cell_type": "code",
   "execution_count": 72,
   "id": "5ac93e04-7077-40c0-97c4-d97fcfa815d3",
   "metadata": {},
   "outputs": [
    {
     "name": "stdout",
     "output_type": "stream",
     "text": [
      "This is parent class\n"
     ]
    }
   ],
   "source": [
    "object2.feature()"
   ]
  },
  {
   "cell_type": "code",
   "execution_count": 74,
   "id": "3097c569-6a55-43fa-9950-8ee105622f85",
   "metadata": {},
   "outputs": [
    {
     "name": "stdout",
     "output_type": "stream",
     "text": [
      "This is child 2 class\n"
     ]
    }
   ],
   "source": [
    "object2.feature2()"
   ]
  },
  {
   "cell_type": "code",
   "execution_count": 80,
   "id": "cdae17da-89c5-42c8-9a3b-97778b8dfcb7",
   "metadata": {},
   "outputs": [],
   "source": [
    "# 5. Hybrid Inheritance\n",
    "\n",
    "#example\n",
    "\n",
    "class Parent:\n",
    "    def feature(self):\n",
    "        print(\"This is parent class\")\n",
    "\n",
    "class Child1(Parent):\n",
    "    def feature1(self):\n",
    "        print(\"This is child1 class\")\n",
    "\n",
    "class Child2(Parent):\n",
    "    def feature2(self):\n",
    "        print(\"This is child 2 class\")\n",
    "\n",
    "class GrandChild(Child1, Child2):\n",
    "    def feature3(self):\n",
    "        print(\"This is grandchild class\")"
   ]
  },
  {
   "cell_type": "code",
   "execution_count": 84,
   "id": "447ad255-17da-4185-849b-6a1b37eee4b6",
   "metadata": {},
   "outputs": [],
   "source": [
    "obj = GrandChild()"
   ]
  },
  {
   "cell_type": "code",
   "execution_count": 86,
   "id": "109dd9f2-13b1-46b9-a3b9-49281bfc6690",
   "metadata": {},
   "outputs": [
    {
     "name": "stdout",
     "output_type": "stream",
     "text": [
      "This is parent class\n"
     ]
    }
   ],
   "source": [
    "obj.feature()"
   ]
  },
  {
   "cell_type": "code",
   "execution_count": 88,
   "id": "f06ccda0-2f57-4e39-9a3b-f677d0900e01",
   "metadata": {},
   "outputs": [
    {
     "name": "stdout",
     "output_type": "stream",
     "text": [
      "This is child1 class\n"
     ]
    }
   ],
   "source": [
    "obj.feature1()"
   ]
  },
  {
   "cell_type": "code",
   "execution_count": 90,
   "id": "3a820c43-a639-40bf-bfcf-89a633e14780",
   "metadata": {},
   "outputs": [
    {
     "name": "stdout",
     "output_type": "stream",
     "text": [
      "This is child 2 class\n"
     ]
    }
   ],
   "source": [
    "obj.feature2()"
   ]
  },
  {
   "cell_type": "code",
   "execution_count": 92,
   "id": "6114ec43-0371-4cf7-94c1-11b0841ec088",
   "metadata": {},
   "outputs": [
    {
     "name": "stdout",
     "output_type": "stream",
     "text": [
      "This is grandchild class\n"
     ]
    }
   ],
   "source": [
    "obj.feature3() #hence accessed all the classes"
   ]
  },
  {
   "cell_type": "code",
   "execution_count": null,
   "id": "bd78cba0-357a-4a2e-8201-6d3ce64449b3",
   "metadata": {},
   "outputs": [],
   "source": [
    "# 13. Explain the concept of the Diamond Problem in multiple inheritance. How does Python resolve it?"
   ]
  },
  {
   "cell_type": "code",
   "execution_count": null,
   "id": "0bd49361-2e15-4300-b319-9b33a0ed4e11",
   "metadata": {},
   "outputs": [],
   "source": [
    "#A. Diamond problem >> It occurs when a class inherits from 2 or more than 2 class\n",
    "\n",
    "# Python resolves this using the C3 Linearization Algorithm,\n",
    "# which ensures a consistent and predictable Method Resolution Order (MRO). \n",
    "# It avoids ambiguity by determining a linear order of class inheritance.  "
   ]
  },
  {
   "cell_type": "code",
   "execution_count": 94,
   "id": "3f17ae65-0137-4c40-8ab4-210483a3d53b",
   "metadata": {},
   "outputs": [],
   "source": [
    "#example 1\n",
    "\n",
    "class A:\n",
    "    def say_hello(self):\n",
    "        print(\"Hello from A\")\n",
    "\n",
    "class B(A):\n",
    "    def say_hello(self):\n",
    "        print(\"Hello from B\")\n",
    "\n",
    "class C(A):\n",
    "    def say_hello(self):\n",
    "        print(\"Hello from C\")\n",
    "\n",
    "class D(B, C):  # D inherits from both B and C\n",
    "    pass"
   ]
  },
  {
   "cell_type": "code",
   "execution_count": 96,
   "id": "1c04ea17-6da4-4784-894d-8ebf849ae825",
   "metadata": {},
   "outputs": [
    {
     "name": "stdout",
     "output_type": "stream",
     "text": [
      "Hello from B\n"
     ]
    }
   ],
   "source": [
    "# Creating an instance of D\n",
    "obj = D()\n",
    "obj.say_hello()"
   ]
  },
  {
   "cell_type": "code",
   "execution_count": 98,
   "id": "991efd76-0e6c-4228-ad58-1b3bb6e9d4cf",
   "metadata": {},
   "outputs": [
    {
     "name": "stdout",
     "output_type": "stream",
     "text": [
      "[<class '__main__.D'>, <class '__main__.B'>, <class '__main__.C'>, <class '__main__.A'>, <class 'object'>]\n"
     ]
    }
   ],
   "source": [
    "# Checking the MRO\n",
    "print(D.mro())"
   ]
  },
  {
   "cell_type": "code",
   "execution_count": 100,
   "id": "4cee7e81-8247-4730-9ffa-dc3d2dc44b79",
   "metadata": {},
   "outputs": [],
   "source": [
    "# example 2, \n",
    "\n",
    "class A:\n",
    "    def say_hello(self):\n",
    "        print(\"Hello from A\")\n",
    "\n",
    "class B(A):\n",
    "    def say_hello(self):\n",
    "        print(\"Hello from B\")\n",
    "\n",
    "class C(A):\n",
    "    def say_hello(self):\n",
    "        print(\"Hello from C\")\n",
    "\n",
    "class D(C, B):  # putting C first instead of B\n",
    "    pass"
   ]
  },
  {
   "cell_type": "code",
   "execution_count": 102,
   "id": "5d29e59e-1ed4-4088-9dd2-4956c1d6f96a",
   "metadata": {},
   "outputs": [
    {
     "name": "stdout",
     "output_type": "stream",
     "text": [
      "Hello from C\n"
     ]
    }
   ],
   "source": [
    "# Creating an instance of D\n",
    "obj = D()\n",
    "obj.say_hello()"
   ]
  },
  {
   "cell_type": "code",
   "execution_count": null,
   "id": "9703bf35-2812-4384-bde4-a2806db04054",
   "metadata": {},
   "outputs": [],
   "source": [
    " # 7. What is the Method Resolution Order (MRO) in Python? How can you retrieve it programmatically?"
   ]
  },
  {
   "cell_type": "code",
   "execution_count": null,
   "id": "cf01211e-82e5-402a-b9b4-a9b0c4e12fab",
   "metadata": {},
   "outputs": [],
   "source": [
    "# The Method Resolution Order (MRO) in Python determines the sequence in which classes are checked when searching for a method or attribute. \n",
    "# It is especially important in cases of multiple inheritance, \n",
    "# as it resolves potential conflicts by specifying the order in which the parent classes are accessed."
   ]
  },
  {
   "cell_type": "code",
   "execution_count": null,
   "id": "e9afb26d-85db-4e91-8acc-54e9d3005e6d",
   "metadata": {},
   "outputs": [],
   "source": [
    "# MRO is determined using the C3 Linearization Algorithm\n",
    "# The MRO is a linear sequence of classes, derived from the class hierarchy."
   ]
  },
  {
   "cell_type": "code",
   "execution_count": null,
   "id": "048dd720-e1b6-404d-a2d4-d954975ffe39",
   "metadata": {},
   "outputs": [],
   "source": [
    "# Order of Resolution:\n",
    "# The method lookup starts from the class itself.\n",
    "#Then it checks parent classes in the order they are listed during inheritance.\n",
    "# Finally, it moves to the base classes "
   ]
  },
  {
   "cell_type": "code",
   "execution_count": null,
   "id": "d742f917-f69d-41ac-bf58-49e98b6411ca",
   "metadata": {},
   "outputs": [],
   "source": [
    "#it resolves conflicts in multiple inheritance."
   ]
  },
  {
   "cell_type": "code",
   "execution_count": 104,
   "id": "6df92fd1-cadb-440b-89a6-9a219b019f1b",
   "metadata": {},
   "outputs": [],
   "source": [
    "class A:\n",
    "    def process(self):\n",
    "        print(\"Process in A\")\n",
    "\n",
    "class B(A):\n",
    "    def process(self):\n",
    "        print(\"Process in B\")\n",
    "\n",
    "class C(A):\n",
    "    def process(self):\n",
    "        print(\"Process in C\")\n",
    "\n",
    "class D(B, C):  # Multiple inheritance\n",
    "    pass"
   ]
  },
  {
   "cell_type": "code",
   "execution_count": 106,
   "id": "30e1ad13-4563-4b3e-8e2f-3aa190f57ad1",
   "metadata": {},
   "outputs": [
    {
     "name": "stdout",
     "output_type": "stream",
     "text": [
      "[<class '__main__.D'>, <class '__main__.B'>, <class '__main__.C'>, <class '__main__.A'>, <class 'object'>]\n"
     ]
    }
   ],
   "source": [
    "# Programmatically retrieve MRO\n",
    "print(D.mro())  "
   ]
  },
  {
   "cell_type": "code",
   "execution_count": 108,
   "id": "eab70214-815b-44ee-a3e4-d160a8dffd72",
   "metadata": {},
   "outputs": [
    {
     "name": "stdout",
     "output_type": "stream",
     "text": [
      "Help on class D in module __main__:\n",
      "\n",
      "class D(B, C)\n",
      " |  Method resolution order:\n",
      " |      D\n",
      " |      B\n",
      " |      C\n",
      " |      A\n",
      " |      builtins.object\n",
      " |\n",
      " |  Methods inherited from B:\n",
      " |\n",
      " |  process(self)\n",
      " |\n",
      " |  ----------------------------------------------------------------------\n",
      " |  Data descriptors inherited from A:\n",
      " |\n",
      " |  __dict__\n",
      " |      dictionary for instance variables\n",
      " |\n",
      " |  __weakref__\n",
      " |      list of weak references to the object\n",
      "\n"
     ]
    }
   ],
   "source": [
    "# Using help()\n",
    "help(D)"
   ]
  },
  {
   "cell_type": "code",
   "execution_count": null,
   "id": "8677d11c-512f-4dc1-a363-8916dfee9a11",
   "metadata": {},
   "outputs": [],
   "source": [
    "#8. Create an abstract base class `Shape` with an abstract method `area()`. Then create two subclasses `Circle` and `Rectangle` that implement the `area()` method."
   ]
  },
  {
   "cell_type": "code",
   "execution_count": 160,
   "id": "7d9baae4-bde0-43bb-b896-0e26f12535b1",
   "metadata": {},
   "outputs": [],
   "source": [
    "from abc import ABC, abstractmethod\n",
    "\n",
    "# Abstract Base Class\n",
    "class Shape(ABC):\n",
    "    @abstractmethod\n",
    "    def calculate_area(self):\n",
    "        pass\n",
    "\n",
    "# Subclass for Circle\n",
    "class Circle(Shape):\n",
    "    def calculate_area(self):\n",
    "        return \"Area of circle is pi r**2\"\n",
    "\n",
    "# Subclass for Rectangle\n",
    "class Rectangle(Shape):\n",
    "    def calculate_area(self):\n",
    "        return \"Area of rectangle is length * breadth\"\n"
   ]
  },
  {
   "cell_type": "code",
   "execution_count": null,
   "id": "be4f03bb-63a8-4105-a354-4ae54a76f214",
   "metadata": {},
   "outputs": [],
   "source": [
    "#9. Demonstrate polymorphism by creating a function that can work with different shape objects to calculate and print their areas."
   ]
  },
  {
   "cell_type": "code",
   "execution_count": 110,
   "id": "e6eec269-d42c-4580-aea8-17d11535d053",
   "metadata": {},
   "outputs": [],
   "source": [
    "from abc import ABC, abstractmethod \n",
    "import math\n",
    "\n",
    "# Abstract base class\n",
    "class Shape(ABC):\n",
    "    @abstractmethod\n",
    "    def area(self):\n",
    "        pass  # Abstract method, must be implemented by subclasses\n",
    "\n",
    "# Subclass for Circle\n",
    "class Circle(Shape):\n",
    "    def __init__(self, radius):\n",
    "        self.radius = radius\n",
    "\n",
    "    def area(self):\n",
    "        return math.pi * self.radius ** 2  # Formula for circle area: pir²\n",
    "\n",
    "# Subclass for Rectangle\n",
    "class Rectangle(Shape):\n",
    "    def __init__(self, length, width):\n",
    "        self.length = length\n",
    "        self.width = width\n",
    "\n",
    "    def area(self):\n",
    "        return self.length * self.width  # Formula for rectangle area: length × width\n",
    "\n",
    "# Subclass for Triangle\n",
    "class Triangle(Shape):\n",
    "    def __init__(self, base, height):\n",
    "        self.base = base\n",
    "        self.height = height\n",
    "\n",
    "    def area(self):\n",
    "        return 0.5 * self.base * self.height  # Formula for triangle area: 1/2 × base × height\n",
    "\n",
    "# Polymorphic function\n",
    "def print_area(shape):\n",
    "    print(f\"The area of the {shape.__class__.__name__} is {shape.area()}\")\n",
    "\n"
   ]
  },
  {
   "cell_type": "code",
   "execution_count": 116,
   "id": "2a428758-d6a3-4923-a81d-09f4c279fe20",
   "metadata": {},
   "outputs": [],
   "source": [
    "# Example Usage\n",
    "circle = Circle(8)  # Circle with radius 5"
   ]
  },
  {
   "cell_type": "code",
   "execution_count": 118,
   "id": "8c28b310-103d-4850-b8a3-47b010e2202c",
   "metadata": {},
   "outputs": [
    {
     "name": "stdout",
     "output_type": "stream",
     "text": [
      "The area of the Circle is 201.06192982974676\n"
     ]
    }
   ],
   "source": [
    "print_area(circle)"
   ]
  },
  {
   "cell_type": "code",
   "execution_count": 124,
   "id": "165c2edc-e21f-428d-ab89-b59b0f48d0db",
   "metadata": {},
   "outputs": [
    {
     "name": "stdout",
     "output_type": "stream",
     "text": [
      "The area of the Rectangle is 18\n"
     ]
    }
   ],
   "source": [
    "rectangle = Rectangle(3,6)\n",
    "print_area(rectangle)"
   ]
  },
  {
   "cell_type": "code",
   "execution_count": 126,
   "id": "647a7fb2-58ca-4692-99d8-5dd4cab347a4",
   "metadata": {},
   "outputs": [
    {
     "name": "stdout",
     "output_type": "stream",
     "text": [
      "The area of the Triangle is 30.0\n"
     ]
    }
   ],
   "source": [
    "triangle = Triangle(12, 5)\n",
    "print_area(triangle)"
   ]
  },
  {
   "cell_type": "code",
   "execution_count": null,
   "id": "5a0f16d0-0ca4-432c-80c5-b3668a557884",
   "metadata": {},
   "outputs": [],
   "source": [
    "# 15. Implement a static method in a class that checks if a given year is a leap year."
   ]
  },
  {
   "cell_type": "code",
   "execution_count": null,
   "id": "d8498e06-b33b-438d-b7d3-6bd5d5c8351d",
   "metadata": {},
   "outputs": [],
   "source": []
  },
  {
   "cell_type": "code",
   "execution_count": null,
   "id": "4c625ff7-8403-4576-9877-d229ae94bd66",
   "metadata": {},
   "outputs": [],
   "source": []
  },
  {
   "cell_type": "code",
   "execution_count": 172,
   "id": "687d5979-a1ed-4800-8fb8-aa8da7cfb72f",
   "metadata": {},
   "outputs": [],
   "source": [
    "'''\n",
    "To determine if a year is a leap year, you can use the following logic:\n",
    "\n",
    "If the year is evenly divisible by 4, it is a leap year. \n",
    "\n",
    "If the year is also evenly divisible by 100, it is not a leap year. \n",
    "\n",
    "If the year is also evenly divisible by 400, it is a leap year\n",
    "'''"
   ]
  },
  {
   "cell_type": "code",
   "execution_count": 178,
   "id": "9c0c2a6d-a7fd-483f-a240-69bdedbbe906",
   "metadata": {},
   "outputs": [],
   "source": [
    "class Leapyear:\n",
    "    @staticmethod\n",
    "    def is_leap_year(year):\n",
    "        # Check if the year is a leap year\n",
    "        if (year % 4 == 0 and year % 100 != 0) or (year % 400 == 0):\n",
    "            return True\n",
    "        return False"
   ]
  },
  {
   "cell_type": "code",
   "execution_count": 180,
   "id": "971a64c1-851d-4ce5-8ce3-5c159498abc4",
   "metadata": {},
   "outputs": [
    {
     "name": "stdout",
     "output_type": "stream",
     "text": [
      "True\n"
     ]
    }
   ],
   "source": [
    "print(Leapyear.is_leap_year(2024))"
   ]
  },
  {
   "cell_type": "code",
   "execution_count": 182,
   "id": "219170ee-388a-4b44-9b3b-0f120180e65b",
   "metadata": {},
   "outputs": [
    {
     "name": "stdout",
     "output_type": "stream",
     "text": [
      "True\n"
     ]
    }
   ],
   "source": [
    "print(Leapyear.is_leap_year(2020))"
   ]
  },
  {
   "cell_type": "code",
   "execution_count": 184,
   "id": "5fe3a731-8ce8-4d72-8fa3-f9addfd6cce1",
   "metadata": {},
   "outputs": [
    {
     "name": "stdout",
     "output_type": "stream",
     "text": [
      "False\n"
     ]
    }
   ],
   "source": [
    "print(Leapyear.is_leap_year(2021))"
   ]
  },
  {
   "cell_type": "code",
   "execution_count": null,
   "id": "390425d6-0465-4f17-8fc1-c451867ca3d7",
   "metadata": {},
   "outputs": [],
   "source": []
  }
 ],
 "metadata": {
  "kernelspec": {
   "display_name": "Python 3 (ipykernel)",
   "language": "python",
   "name": "python3"
  },
  "language_info": {
   "codemirror_mode": {
    "name": "ipython",
    "version": 3
   },
   "file_extension": ".py",
   "mimetype": "text/x-python",
   "name": "python",
   "nbconvert_exporter": "python",
   "pygments_lexer": "ipython3",
   "version": "3.12.7"
  }
 },
 "nbformat": 4,
 "nbformat_minor": 5
}
