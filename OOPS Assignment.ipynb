{
 "cells": [
  {
   "cell_type": "code",
   "execution_count": null,
   "id": "b2f4b91c-5f49-4049-b847-96ec18f54888",
   "metadata": {},
   "outputs": [],
   "source": [
    "# 1. What are the five key concepts of Object-Oriented Programming (OOP)?"
   ]
  },
  {
   "cell_type": "code",
   "execution_count": null,
   "id": "bec67d06-147b-4085-9a1d-f8012b8ee9aa",
   "metadata": {},
   "outputs": [],
   "source": [
    "'''\n",
    "A. The five key concepts of Object-Oriented Programming (OOP) are:\n",
    "\n",
    "a. Class - \n",
    "\n",
    "- Its a blueprint (template) for creating objects. \n",
    "- It defines attributes and method shared by all the objects of the type\n",
    "- example 1 - if a car is a class then color and model will be its attributes and drive(), stop() will be its method\n",
    "- example 2 - if human is a class then color, gender, name will be attributes and eat(), sleep(), work() will be its method\n"
   ]
  },
  {
   "cell_type": "code",
   "execution_count": 13,
   "id": "ddc2f32e-d667-4874-94f1-7b910c3b1cf1",
   "metadata": {},
   "outputs": [
    {
     "name": "stdout",
     "output_type": "stream",
     "text": [
      "i am depositing money\n"
     ]
    },
    {
     "data": {
      "text/plain": [
       "<__main__.Bank at 0x15871e6c0>"
      ]
     },
     "execution_count": 13,
     "metadata": {},
     "output_type": "execute_result"
    }
   ],
   "source": [
    "#example\n",
    "class Bank():\n",
    "    def deposit(self):\n",
    "        print(\"i am depositing money\") \n",
    "    def withdraw(self):\n",
    "        print(\"i am withdrawing money\")\n",
    "\n",
    "b1 = Bank()\n",
    "b1.deposit()\n",
    "b1"
   ]
  },
  {
   "cell_type": "code",
   "execution_count": 21,
   "id": "f636e7b9-eda1-4753-82e7-0d8489c25aaa",
   "metadata": {},
   "outputs": [],
   "source": [
    "#b. Object - \n",
    "\n",
    "#object represents a special entity with its own state and behaviour\n",
    "#with class we can develop different objects\n",
    "#it is an instance of class\n",
    "\n",
    "#example\n",
    "\n",
    "class Car():\n",
    "    def accelerate(self):\n",
    "        print (\"car is accelerating\")\n",
    "    "
   ]
  },
  {
   "cell_type": "code",
   "execution_count": 23,
   "id": "eb1739e1-e593-4752-982c-97c874a1ae82",
   "metadata": {},
   "outputs": [],
   "source": [
    "c1 = Car() "
   ]
  },
  {
   "cell_type": "code",
   "execution_count": 29,
   "id": "3f5f014d-440d-4a84-9224-598490dff26f",
   "metadata": {},
   "outputs": [
    {
     "name": "stdout",
     "output_type": "stream",
     "text": [
      "car is accelerating\n"
     ]
    }
   ],
   "source": [
    "c1.accelerate() #c1 is the object of class Car"
   ]
  },
  {
   "cell_type": "code",
   "execution_count": 73,
   "id": "93b41f6a-2f15-4c1e-b650-2ffa9b7a5ebb",
   "metadata": {},
   "outputs": [],
   "source": [
    "# C. Encapsulation - \n",
    "#Encapsulation means bundling data (attributes) and methods (functions) into a single unit (the class) and restricting direct access to some of the object's components for security and simplicity.\n",
    "\n",
    "#example\n",
    "\n",
    "class person():\n",
    "    def __init__(self, name, address):\n",
    "        self.name = name\n",
    "        self.__address = address\n",
    "\n",
    "    def show(self):\n",
    "        print (\"name\",self.name, \"address\", self.__address)\n"
   ]
  },
  {
   "cell_type": "code",
   "execution_count": 79,
   "id": "0b86a7a6-b3b9-40f0-ab5a-a7a51aabf0c6",
   "metadata": {},
   "outputs": [],
   "source": [
    "person1 = person(\"keerthi\", \"India\")"
   ]
  },
  {
   "cell_type": "code",
   "execution_count": 81,
   "id": "d852b0a2-26a9-4cb6-8c35-9d0924382506",
   "metadata": {},
   "outputs": [
    {
     "data": {
      "text/plain": [
       "'keerthi'"
      ]
     },
     "execution_count": 81,
     "metadata": {},
     "output_type": "execute_result"
    }
   ],
   "source": [
    "person1.name"
   ]
  },
  {
   "cell_type": "code",
   "execution_count": 83,
   "id": "5f8e6931-31b9-4dcd-b668-e1376c33c355",
   "metadata": {},
   "outputs": [
    {
     "ename": "AttributeError",
     "evalue": "'person' object has no attribute 'address'",
     "output_type": "error",
     "traceback": [
      "\u001b[0;31m---------------------------------------------------------------------------\u001b[0m",
      "\u001b[0;31mAttributeError\u001b[0m                            Traceback (most recent call last)",
      "Cell \u001b[0;32mIn[83], line 1\u001b[0m\n\u001b[0;32m----> 1\u001b[0m person1\u001b[38;5;241m.\u001b[39maddress\n",
      "\u001b[0;31mAttributeError\u001b[0m: 'person' object has no attribute 'address'"
     ]
    }
   ],
   "source": [
    "person1.address #it is not showing because we made it private"
   ]
  },
  {
   "cell_type": "code",
   "execution_count": 87,
   "id": "91b5ee0d-0bff-41f8-852e-da029c12fa50",
   "metadata": {},
   "outputs": [
    {
     "name": "stdout",
     "output_type": "stream",
     "text": [
      "name keerthi address India\n"
     ]
    }
   ],
   "source": [
    "person1.show()"
   ]
  },
  {
   "cell_type": "code",
   "execution_count": 89,
   "id": "85a21f38-daf0-4b12-80c3-ebe8ab7ceebe",
   "metadata": {},
   "outputs": [],
   "source": [
    "# d. Inheritance\n",
    "#Inheritance allows a class (child class) to inherit properties and methods from another class (parent class). \n",
    "#This promotes code reuse and establishes a hierarchical relationship between classes.\n",
    "\n",
    "#example \n",
    "\n",
    "class Father():\n",
    "    def duty(self):\n",
    "        print(\"he provides for family\")\n",
    "\n",
    "class Mother():\n",
    "    def responsibility(self):\n",
    "        print(\"she nurtures the family\")\n",
    "\n",
    "class child(Father, Mother):\n",
    "    def study(self):\n",
    "        print(\"they study well\")"
   ]
  },
  {
   "cell_type": "code",
   "execution_count": 91,
   "id": "46cdc8eb-a8e5-48ef-902a-2c9d04ae5a48",
   "metadata": {},
   "outputs": [],
   "source": [
    "f1 = child()"
   ]
  },
  {
   "cell_type": "code",
   "execution_count": 95,
   "id": "77756e6c-44e8-4bfa-9813-8b9a970a44b5",
   "metadata": {},
   "outputs": [
    {
     "name": "stdout",
     "output_type": "stream",
     "text": [
      "he provides for family\n"
     ]
    }
   ],
   "source": [
    "f1.duty()"
   ]
  },
  {
   "cell_type": "code",
   "execution_count": 97,
   "id": "e39ad592-6e7b-4bae-9d55-0cbb4016500e",
   "metadata": {},
   "outputs": [
    {
     "name": "stdout",
     "output_type": "stream",
     "text": [
      "she nurtures the family\n"
     ]
    }
   ],
   "source": [
    "f1.responsibility()"
   ]
  },
  {
   "cell_type": "code",
   "execution_count": 99,
   "id": "5287f02c-eb39-462a-ab55-0998bc382635",
   "metadata": {},
   "outputs": [
    {
     "name": "stdout",
     "output_type": "stream",
     "text": [
      "they study well\n"
     ]
    }
   ],
   "source": [
    "f1.study()"
   ]
  },
  {
   "cell_type": "code",
   "execution_count": 101,
   "id": "49b09872-e467-4ad9-892b-88da4bdc1bb5",
   "metadata": {},
   "outputs": [],
   "source": [
    "# e . Polymorphism \n",
    "# it allows methods or functions to have the same name but behave differently depending on the object they are called on. \n",
    "# This is commonly seen with method overriding and overloading.\n",
    "\n",
    "#example \n",
    "\n",
    "class teacher_lecture:\n",
    "    def lec_info(self):\n",
    "        print(\"teacher lecture perspective\")\n",
    "\n",
    "class student_lecture:\n",
    "    def lec_info(self):\n",
    "        print(\"student lecture perspective\")"
   ]
  },
  {
   "cell_type": "code",
   "execution_count": 105,
   "id": "0d068ac1-a8de-4287-aec7-384d3076c83e",
   "metadata": {},
   "outputs": [],
   "source": [
    "obj_teacher = teacher_lecture()\n",
    "obj_student = student_lecture()"
   ]
  },
  {
   "cell_type": "code",
   "execution_count": 107,
   "id": "9b658103-367f-4349-997f-73dd4248d8c1",
   "metadata": {},
   "outputs": [],
   "source": [
    "obj_both = [obj_teacher, obj_student]"
   ]
  },
  {
   "cell_type": "code",
   "execution_count": 113,
   "id": "5d8fc7ca-df63-410b-85c5-f1f49d8eacdd",
   "metadata": {},
   "outputs": [],
   "source": [
    "def polymorphism_ex(obj_both): \n",
    "    for i in obj_both:\n",
    "        i.lec_info()"
   ]
  },
  {
   "cell_type": "code",
   "execution_count": 115,
   "id": "b548b40a-3e1d-48e3-8f2e-cd528e51d2c8",
   "metadata": {},
   "outputs": [
    {
     "name": "stdout",
     "output_type": "stream",
     "text": [
      "teacher lecture perspective\n",
      "student lecture perspective\n"
     ]
    }
   ],
   "source": [
    "polymorphism_ex(obj_both)"
   ]
  },
  {
   "cell_type": "code",
   "execution_count": null,
   "id": "4693e143-857a-4e62-8540-97e1dcf214d7",
   "metadata": {},
   "outputs": [],
   "source": [
    "#2. Write a Python class for a Car with attributes for make, model, and year. Include a method to display the car's information."
   ]
  },
  {
   "cell_type": "code",
   "execution_count": 56,
   "id": "f4c3ce1c-b14f-4000-9877-a125d5c99a48",
   "metadata": {},
   "outputs": [],
   "source": [
    "# A. \n",
    "\n",
    "class Car():\n",
    "    def __init__ (self,make,model,year):\n",
    "        self.make = make\n",
    "        self. model = model\n",
    "        self. year = year\n",
    "    def car_info(self):\n",
    "        print (f\"car_info:\\nmake:{self.make}\\nmodel:{self.model}\\nyear{self.year}\")"
   ]
  },
  {
   "cell_type": "code",
   "execution_count": 63,
   "id": "3cad3312-8645-468a-86a2-d56bdf54be4d",
   "metadata": {},
   "outputs": [],
   "source": [
    "b1 = Car(\"Baleno\",\"type3\",2016)"
   ]
  },
  {
   "cell_type": "code",
   "execution_count": 65,
   "id": "819d66bf-9ac0-4954-a47f-e0353e677a7c",
   "metadata": {},
   "outputs": [
    {
     "name": "stdout",
     "output_type": "stream",
     "text": [
      "car_info:\n",
      "make:Baleno\n",
      "model:type3\n",
      "year2016\n"
     ]
    }
   ],
   "source": [
    "b1.car_info()"
   ]
  },
  {
   "cell_type": "code",
   "execution_count": null,
   "id": "e78fac96-f903-461d-a7ac-c4e04bc97f6b",
   "metadata": {},
   "outputs": [],
   "source": [
    "# 3. Explain the difference between instance methods and class methods. Provide an example of each."
   ]
  },
  {
   "cell_type": "code",
   "execution_count": null,
   "id": "e0c7a58f-245e-49df-b89a-766e53c0885b",
   "metadata": {},
   "outputs": [],
   "source": [
    "# Instance method -\n",
    "#i. Belongs to instance of class\n",
    "#ii. can access instance attributes and methods \n",
    "#iii. No specific decorator required\n",
    "#iv. used when the behaviour depends on individual object data.\n",
    "#v. self is used as first param, to call the instance"
   ]
  },
  {
   "cell_type": "code",
   "execution_count": 117,
   "id": "d8edcdbc-1338-4250-8f4d-0e4ac40b2ce5",
   "metadata": {},
   "outputs": [],
   "source": [
    "#example\n",
    "\n",
    "class student():\n",
    "    #it is a constructor, it initializes the variables/data\n",
    "    def __init__(self,name):\n",
    "        self.name = name"
   ]
  },
  {
   "cell_type": "code",
   "execution_count": 121,
   "id": "371467b3-2ba2-4185-b903-fd05594223cc",
   "metadata": {},
   "outputs": [],
   "source": [
    "s1 = student(\"keerthi\")"
   ]
  },
  {
   "cell_type": "code",
   "execution_count": 123,
   "id": "baf70f71-62cb-4a2a-9b11-02dbf94e02ee",
   "metadata": {},
   "outputs": [
    {
     "data": {
      "text/plain": [
       "'keerthi'"
      ]
     },
     "execution_count": 123,
     "metadata": {},
     "output_type": "execute_result"
    }
   ],
   "source": [
    "s1.name"
   ]
  },
  {
   "cell_type": "code",
   "execution_count": 125,
   "id": "64e0ca37-4f1d-4b2c-b323-aa76bf824214",
   "metadata": {},
   "outputs": [],
   "source": [
    "s2 = student(\"deepthi\")"
   ]
  },
  {
   "cell_type": "code",
   "execution_count": 127,
   "id": "0ae61954-37a3-4106-b5a8-7b9c95c295fe",
   "metadata": {},
   "outputs": [
    {
     "data": {
      "text/plain": [
       "'deepthi'"
      ]
     },
     "execution_count": 127,
     "metadata": {},
     "output_type": "execute_result"
    }
   ],
   "source": [
    "s2.name #it is for an instance need"
   ]
  },
  {
   "cell_type": "code",
   "execution_count": null,
   "id": "101880c9-be70-40d8-89f8-ae91bc3c6f9b",
   "metadata": {},
   "outputs": [],
   "source": [
    "# Class method -\n",
    "#i. Belongs to class itself, not individual instances.\n",
    "#ii. It can access class-level attributes\n",
    "#iii. defined with @class method decorator\n",
    "#iv. used for operations related to class rather than individual instances. \n",
    "#v. class is used as first param, to call the class itself"
   ]
  },
  {
   "cell_type": "code",
   "execution_count": 186,
   "id": "7126abb3-1026-4f06-95d8-16a2b0bc4759",
   "metadata": {},
   "outputs": [],
   "source": [
    "#example\n",
    "\n",
    "class student():\n",
    "    def __init__(self,name):\n",
    "        self.name = name\n",
    "\n",
    "    @classmethod #it is bounded to the class\n",
    "    def student_details(cls, name): \n",
    "        return cls(name)\n",
    "        \n",
    "    "
   ]
  },
  {
   "cell_type": "code",
   "execution_count": 190,
   "id": "ded140fa-fce8-48d4-b3ae-9effded9e640",
   "metadata": {},
   "outputs": [],
   "source": [
    "obj1 = student.student_details(\"keerthi\")"
   ]
  },
  {
   "cell_type": "code",
   "execution_count": 192,
   "id": "176f2bcf-05b0-4038-a849-3fe1bca2036c",
   "metadata": {},
   "outputs": [
    {
     "data": {
      "text/plain": [
       "'keerthi'"
      ]
     },
     "execution_count": 192,
     "metadata": {},
     "output_type": "execute_result"
    }
   ],
   "source": [
    "obj1.name"
   ]
  },
  {
   "cell_type": "code",
   "execution_count": null,
   "id": "625662a6-3876-4a1d-ab3d-1c134357d3c1",
   "metadata": {},
   "outputs": [],
   "source": [
    "#class method can modify class state applicable to all the instances of the class"
   ]
  },
  {
   "cell_type": "code",
   "execution_count": null,
   "id": "376e9fd3-d490-4d58-ab86-658f2324b248",
   "metadata": {},
   "outputs": [],
   "source": [
    "# In real-life systems, instance methods handle operations on individual objects (like borrowing a specific book), \n",
    "# while class methods handle operations on the entire class or global attributes shared by all objects (like keeping track of total books in the library)."
   ]
  },
  {
   "cell_type": "code",
   "execution_count": null,
   "id": "cb7bdf11-202c-4296-b4d6-7b85781aad7c",
   "metadata": {},
   "outputs": [],
   "source": [
    "#4.  How does Python implement method overloading? Give an example."
   ]
  },
  {
   "cell_type": "code",
   "execution_count": null,
   "id": "28d2d26f-1c1b-4ed5-909e-3474243f4200",
   "metadata": {},
   "outputs": [],
   "source": [
    "# Method Overloading: A single method can have multiple signatures (different parameter lists). \n",
    "# Python doesn’t support method overloading explicitly but it can be mimicked using default arguments."
   ]
  },
  {
   "cell_type": "code",
   "execution_count": 153,
   "id": "aed166d9-2f5d-49f2-85d4-c1ff70827acd",
   "metadata": {},
   "outputs": [],
   "source": [
    "#example - #method overloading happens in same class\n",
    "\n",
    "class Student():\n",
    "    def student(self, name =\"\", course = \"\"):\n",
    "        print(\"welcome to pwskills\", name, course)\n",
    "    "
   ]
  },
  {
   "cell_type": "code",
   "execution_count": 165,
   "id": "f6888acf-ec10-4d6c-9e83-4d9c9f299049",
   "metadata": {},
   "outputs": [],
   "source": [
    "b = Student()"
   ]
  },
  {
   "cell_type": "code",
   "execution_count": 201,
   "id": "f07830b8-525a-4eb7-b688-c7d914cbb427",
   "metadata": {},
   "outputs": [
    {
     "name": "stdout",
     "output_type": "stream",
     "text": [
      "welcome to pwskills  \n"
     ]
    }
   ],
   "source": [
    "b.student()"
   ]
  },
  {
   "cell_type": "code",
   "execution_count": 203,
   "id": "645e1fd9-7120-41b2-a652-d9bfdb6c9233",
   "metadata": {},
   "outputs": [
    {
     "name": "stdout",
     "output_type": "stream",
     "text": [
      "welcome to pwskills keerthi \n"
     ]
    }
   ],
   "source": [
    "b.student(\"keerthi\")"
   ]
  },
  {
   "cell_type": "code",
   "execution_count": 196,
   "id": "842642f7-34f5-405e-a5fa-8643736327e7",
   "metadata": {},
   "outputs": [
    {
     "name": "stdout",
     "output_type": "stream",
     "text": [
      "welcome to pwskills keerthi business_analytics\n"
     ]
    }
   ],
   "source": [
    "b.student(\"keerthi\", \"business_analytics\")"
   ]
  },
  {
   "cell_type": "code",
   "execution_count": 198,
   "id": "728ac2e7-6211-4c78-90dd-8a8efd195a8a",
   "metadata": {},
   "outputs": [],
   "source": [
    "# example 2 class method overloads __init__ method\n",
    "\n",
    "class student():\n",
    "    def __init__(self,name):\n",
    "        self.name = name\n",
    "\n",
    "    @classmethod \n",
    "    def student_details(cls, name1): \n",
    "        return cls(name1)"
   ]
  },
  {
   "cell_type": "code",
   "execution_count": null,
   "id": "02d5c98d-da2b-46f9-aa1d-1d4cb2fd47a3",
   "metadata": {},
   "outputs": [],
   "source": [
    "stud = student.student_details(\"sowjanya\")"
   ]
  },
  {
   "cell_type": "code",
   "execution_count": 205,
   "id": "cf8533b8-acb0-43a9-a739-270d68b082ff",
   "metadata": {},
   "outputs": [
    {
     "data": {
      "text/plain": [
       "'sowjanya'"
      ]
     },
     "execution_count": 205,
     "metadata": {},
     "output_type": "execute_result"
    }
   ],
   "source": [
    "stud.name #we get sowjanya even if we applied name intead of name1 attribute"
   ]
  },
  {
   "cell_type": "code",
   "execution_count": 169,
   "id": "ee7275ce-aebb-4a8b-8bf7-c57dddf5e4db",
   "metadata": {},
   "outputs": [
    {
     "name": "stdout",
     "output_type": "stream",
     "text": [
      "welcome to pwskills  \n"
     ]
    }
   ],
   "source": [
    "b.student()"
   ]
  },
  {
   "cell_type": "code",
   "execution_count": 173,
   "id": "ffda9921-2d73-40ad-b856-3af84a07e6d5",
   "metadata": {},
   "outputs": [
    {
     "name": "stdout",
     "output_type": "stream",
     "text": [
      "welcome to pwskills keerthi \n"
     ]
    }
   ],
   "source": [
    "b.student(\"keerthi\")"
   ]
  },
  {
   "cell_type": "code",
   "execution_count": null,
   "id": "768b64c8-2242-4171-9c04-9ba56e256792",
   "metadata": {},
   "outputs": [],
   "source": [
    "# 5. What are the three types of access modifiers in Python? How are they denoted?"
   ]
  },
  {
   "cell_type": "code",
   "execution_count": null,
   "id": "e7a1f1bc-cb5f-4c4c-a53b-3bf08c597c6e",
   "metadata": {},
   "outputs": [],
   "source": [
    "# A. In Python, access modifiers are used to define the accessibility of class attributes and methods. Python provides three types of access modifiers, but it uses naming conventions (rather than strict enforcement) to control access levels."
   ]
  },
  {
   "cell_type": "code",
   "execution_count": null,
   "id": "ba5201d2-9a2a-4325-a30b-becd12287946",
   "metadata": {},
   "outputs": [],
   "source": [
    "#1. Public -\n",
    "\n",
    "#i. Attributes or methods that can be accessed from anywhere —\n",
    "# inside the class, outside the class, or from subclasses."
   ]
  },
  {
   "cell_type": "code",
   "execution_count": 110,
   "id": "53fc63e5-80e6-4463-83b2-3e06bab2666f",
   "metadata": {},
   "outputs": [],
   "source": [
    "#example - \n",
    "\n",
    "class student():\n",
    "    def __init__(self, name, degree):\n",
    "        self.name = name\n",
    "        self.degree = degree\n",
    "        "
   ]
  },
  {
   "cell_type": "code",
   "execution_count": 120,
   "id": "4c09e679-4844-4c53-8715-0cb0effe816c",
   "metadata": {},
   "outputs": [],
   "source": [
    "stud = student(\"Rajiv\", \"MBA\")"
   ]
  },
  {
   "cell_type": "code",
   "execution_count": 122,
   "id": "17e54170-2fd3-4ef1-94db-d93323b913ab",
   "metadata": {},
   "outputs": [
    {
     "data": {
      "text/plain": [
       "'Rajiv'"
      ]
     },
     "execution_count": 122,
     "metadata": {},
     "output_type": "execute_result"
    }
   ],
   "source": [
    "stud.name"
   ]
  },
  {
   "cell_type": "code",
   "execution_count": 124,
   "id": "6aded520-2908-4b0b-a3c8-1977aa2462dc",
   "metadata": {},
   "outputs": [
    {
     "data": {
      "text/plain": [
       "'MBA'"
      ]
     },
     "execution_count": 124,
     "metadata": {},
     "output_type": "execute_result"
    }
   ],
   "source": [
    "stud.degree"
   ]
  },
  {
   "cell_type": "code",
   "execution_count": 128,
   "id": "90081ba8-1274-48ba-bc60-94d396cfeae2",
   "metadata": {},
   "outputs": [],
   "source": [
    "stud.degree = \"btech\""
   ]
  },
  {
   "cell_type": "code",
   "execution_count": 130,
   "id": "4eae3164-2ed7-4e93-a553-3d01ea4cc2bc",
   "metadata": {},
   "outputs": [
    {
     "data": {
      "text/plain": [
       "'btech'"
      ]
     },
     "execution_count": 130,
     "metadata": {},
     "output_type": "execute_result"
    }
   ],
   "source": [
    "stud.degree # it is public, so its been easier to accessible.\n",
    "#by default it is public"
   ]
  },
  {
   "cell_type": "code",
   "execution_count": null,
   "id": "f37b2d0e-d662-4a55-b089-c6802e118f04",
   "metadata": {},
   "outputs": [],
   "source": [
    "# 2. Private - \n",
    "\n",
    "# the data is only accessed within the class\n",
    "#it is denoted by double underscore before the name"
   ]
  },
  {
   "cell_type": "code",
   "execution_count": 216,
   "id": "2a5655ac-9670-4a93-b313-3a1ca73d9d80",
   "metadata": {},
   "outputs": [],
   "source": [
    "#example\n",
    "\n",
    "class Student():\n",
    "    def __init__(self, name, degree):\n",
    "        self.name = name\n",
    "        self.__degree = degree\n",
    "\n",
    "    def show(self):\n",
    "        print (\"name\",self.name, \"degree\", self.__degree)"
   ]
  },
  {
   "cell_type": "code",
   "execution_count": 218,
   "id": "b59ec03a-549d-4b30-92fb-350d7918843c",
   "metadata": {},
   "outputs": [],
   "source": [
    "s2 = Student(\"rajiv\",\"Mtech\")"
   ]
  },
  {
   "cell_type": "code",
   "execution_count": 220,
   "id": "e2ebb257-400b-460a-b927-a53360d6ccda",
   "metadata": {},
   "outputs": [
    {
     "data": {
      "text/plain": [
       "'rajiv'"
      ]
     },
     "execution_count": 220,
     "metadata": {},
     "output_type": "execute_result"
    }
   ],
   "source": [
    "s2.name"
   ]
  },
  {
   "cell_type": "code",
   "execution_count": 222,
   "id": "28238cdb-ea33-4a72-8977-ef50ff6b1a36",
   "metadata": {},
   "outputs": [
    {
     "ename": "AttributeError",
     "evalue": "'Student' object has no attribute 'degree'",
     "output_type": "error",
     "traceback": [
      "\u001b[0;31m---------------------------------------------------------------------------\u001b[0m",
      "\u001b[0;31mAttributeError\u001b[0m                            Traceback (most recent call last)",
      "Cell \u001b[0;32mIn[222], line 1\u001b[0m\n\u001b[0;32m----> 1\u001b[0m s2\u001b[38;5;241m.\u001b[39mdegree\n",
      "\u001b[0;31mAttributeError\u001b[0m: 'Student' object has no attribute 'degree'"
     ]
    }
   ],
   "source": [
    "s2.degree # as by adding __degree, it became a private attribute. we cant access from outside"
   ]
  },
  {
   "cell_type": "code",
   "execution_count": 224,
   "id": "0975e4ff-c2b7-4dac-9720-0efc434e4211",
   "metadata": {},
   "outputs": [
    {
     "name": "stdout",
     "output_type": "stream",
     "text": [
      "name rajiv degree Mtech\n"
     ]
    }
   ],
   "source": [
    "s2.show()"
   ]
  },
  {
   "cell_type": "code",
   "execution_count": 166,
   "id": "6b8b8fb2-bb93-4e5a-a940-11add25defce",
   "metadata": {},
   "outputs": [
    {
     "data": {
      "text/plain": [
       "'Mtech'"
      ]
     },
     "execution_count": 166,
     "metadata": {},
     "output_type": "execute_result"
    }
   ],
   "source": [
    "#one way to access - by knowing the class and the attributes\n",
    "s2._Student__degree"
   ]
  },
  {
   "cell_type": "code",
   "execution_count": 304,
   "id": "8fd48e9e-2831-48ed-a6b8-b6f68dbb02c8",
   "metadata": {},
   "outputs": [],
   "source": [
    "# 3. Protected\n",
    "# Attributes or methods that should be accessed only within the class or its subclasses.\n",
    "#it is denoted by single underscore before the name"
   ]
  },
  {
   "cell_type": "code",
   "execution_count": 306,
   "id": "9b50ba14-4a4c-4e53-9331-13eb6ab082ea",
   "metadata": {},
   "outputs": [],
   "source": [
    "#example\n",
    "\n",
    "\n",
    "# Usage\n",
    "\n",
    " # Output: Name: Alice College: pwskills\n"
   ]
  },
  {
   "cell_type": "code",
   "execution_count": 308,
   "id": "6cffa670-2955-433d-9591-8564af537303",
   "metadata": {},
   "outputs": [],
   "source": [
    "student1 = Student(\"keerthi\")"
   ]
  },
  {
   "cell_type": "code",
   "execution_count": null,
   "id": "d81d1bbe-a48f-4b36-b169-051abb90646f",
   "metadata": {},
   "outputs": [],
   "source": []
  },
  {
   "cell_type": "code",
   "execution_count": null,
   "id": "e9dda480-b687-4f6e-becd-52854f3c5772",
   "metadata": {},
   "outputs": [],
   "source": []
  },
  {
   "cell_type": "code",
   "execution_count": 289,
   "id": "390b6318-bd85-48a6-80c8-d6994985d1d2",
   "metadata": {},
   "outputs": [
    {
     "ename": "AttributeError",
     "evalue": "'student' object has no attribute 'show'",
     "output_type": "error",
     "traceback": [
      "\u001b[0;31m---------------------------------------------------------------------------\u001b[0m",
      "\u001b[0;31mAttributeError\u001b[0m                            Traceback (most recent call last)",
      "Cell \u001b[0;32mIn[289], line 1\u001b[0m\n\u001b[0;32m----> 1\u001b[0m stud1\u001b[38;5;241m.\u001b[39mshow()\n",
      "\u001b[0;31mAttributeError\u001b[0m: 'student' object has no attribute 'show'"
     ]
    }
   ],
   "source": [
    "student1.show() "
   ]
  },
  {
   "cell_type": "code",
   "execution_count": 312,
   "id": "d5e1ae75-f5c4-40dd-a8d7-3427f3d2ac9f",
   "metadata": {},
   "outputs": [],
   "source": [
    "\n",
    "class College():\n",
    "    def __init__(self):\n",
    "        self._college_name = \"pwskills\"  # Protected variable\n",
    "\n",
    "class Student(College):\n",
    "    def __init__(self, name):\n",
    "        super().__init__()  # Call the parent class constructor\n",
    "        self._name = name  # Instance attribute for student's name\n",
    "\n",
    "    def show(self):\n",
    "        print(\"Name:\", self._name, \"College:\", self._college_name)\n"
   ]
  },
  {
   "cell_type": "code",
   "execution_count": 314,
   "id": "034357e9-29b7-4d2f-8d08-07d5747e65ea",
   "metadata": {},
   "outputs": [],
   "source": [
    "student1 = Student(\"keerthi\")"
   ]
  },
  {
   "cell_type": "code",
   "execution_count": 320,
   "id": "65173dcc-0255-453a-a81c-31d6745c3d4e",
   "metadata": {},
   "outputs": [
    {
     "name": "stdout",
     "output_type": "stream",
     "text": [
      "Name: keerthi College: pwskills\n"
     ]
    }
   ],
   "source": [
    "student1.show()"
   ]
  },
  {
   "cell_type": "code",
   "execution_count": null,
   "id": "0ff334fd-f38d-400f-8ed8-4a41eee4ef26",
   "metadata": {},
   "outputs": [],
   "source": []
  },
  {
   "cell_type": "code",
   "execution_count": null,
   "id": "cd8da055-f0e4-471c-841a-a07aa61e496e",
   "metadata": {},
   "outputs": [],
   "source": []
  },
  {
   "cell_type": "code",
   "execution_count": 250,
   "id": "5bcf4a5e-9008-4df4-a8cb-a22ac8cd8a5e",
   "metadata": {},
   "outputs": [],
   "source": [
    "# 10. Implement encapsulation in a `BankAccount` class with private attributes for `balance` and `account_number`. Include methods for deposit, withdrawal, and balance inquiry."
   ]
  },
  {
   "cell_type": "code",
   "execution_count": 252,
   "id": "435f69c0-36c6-47cb-8f53-e5f07830dfd0",
   "metadata": {},
   "outputs": [],
   "source": [
    "class Bank():\n",
    "    def __init__(self,balance):\n",
    "        self.__balance = balance\n",
    "\n",
    "    def deposit (self,amount): #amount is new deposition\n",
    "        self.__balance = self.__balance + amount\n",
    "\n",
    "    def withdraw (self, amount):\n",
    "        if self.__balance>= amount:\n",
    "            self.__balance = self.__balance - amount\n",
    "            return True\n",
    "        else:\n",
    "            return False\n",
    "\n",
    "    def get_balance(self):\n",
    "        return self.__balance"
   ]
  },
  {
   "cell_type": "code",
   "execution_count": 254,
   "id": "dcf47047-73cc-4f0a-8c1d-f6e2bc1cc213",
   "metadata": {},
   "outputs": [],
   "source": [
    " acc1 = Bank(1000)"
   ]
  },
  {
   "cell_type": "code",
   "execution_count": 256,
   "id": "67890cf9-e4ef-4ae5-93b1-d0faca8990c6",
   "metadata": {},
   "outputs": [
    {
     "data": {
      "text/plain": [
       "1000"
      ]
     },
     "execution_count": 256,
     "metadata": {},
     "output_type": "execute_result"
    }
   ],
   "source": [
    "acc1.get_balance()"
   ]
  },
  {
   "cell_type": "code",
   "execution_count": 258,
   "id": "617893c1-0f4a-4155-a39f-c50973e8c58e",
   "metadata": {},
   "outputs": [],
   "source": [
    "acc1.deposit(1000)"
   ]
  },
  {
   "cell_type": "code",
   "execution_count": 260,
   "id": "8274f4e4-e09c-4b05-b687-248dca8f5b11",
   "metadata": {},
   "outputs": [
    {
     "data": {
      "text/plain": [
       "2000"
      ]
     },
     "execution_count": 260,
     "metadata": {},
     "output_type": "execute_result"
    }
   ],
   "source": [
    "acc1.get_balance()"
   ]
  },
  {
   "cell_type": "code",
   "execution_count": 262,
   "id": "752704ed-e8a3-4341-b890-3e88d4e8a546",
   "metadata": {},
   "outputs": [
    {
     "data": {
      "text/plain": [
       "True"
      ]
     },
     "execution_count": 262,
     "metadata": {},
     "output_type": "execute_result"
    }
   ],
   "source": [
    "acc1.withdraw(1000)"
   ]
  },
  {
   "cell_type": "code",
   "execution_count": null,
   "id": "62939ba0-4550-4e18-9ea3-d54913f41937",
   "metadata": {},
   "outputs": [],
   "source": []
  },
  {
   "cell_type": "code",
   "execution_count": null,
   "id": "5f00f4fb-9c79-4615-893a-86efa7d2cf48",
   "metadata": {},
   "outputs": [],
   "source": []
  },
  {
   "cell_type": "code",
   "execution_count": null,
   "id": "26299e7a-c28d-456d-8c29-3c01956e2920",
   "metadata": {},
   "outputs": [],
   "source": []
  }
 ],
 "metadata": {
  "kernelspec": {
   "display_name": "Python 3 (ipykernel)",
   "language": "python",
   "name": "python3"
  },
  "language_info": {
   "codemirror_mode": {
    "name": "ipython",
    "version": 3
   },
   "file_extension": ".py",
   "mimetype": "text/x-python",
   "name": "python",
   "nbconvert_exporter": "python",
   "pygments_lexer": "ipython3",
   "version": "3.12.7"
  }
 },
 "nbformat": 4,
 "nbformat_minor": 5
}
